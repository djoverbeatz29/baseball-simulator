{
 "cells": [
  {
   "cell_type": "code",
   "execution_count": 196,
   "metadata": {},
   "outputs": [],
   "source": [
    "import requests\n",
    "from bs4 import BeautifulSoup\n",
    "import pandas as pd\n",
    "import numpy as np\n",
    "import copy"
   ]
  },
  {
   "cell_type": "code",
   "execution_count": 176,
   "metadata": {},
   "outputs": [
    {
     "name": "stderr",
     "output_type": "stream",
     "text": [
      "/home/jequezinho/.local/lib/python3.6/site-packages/ipykernel_launcher.py:13: SettingWithCopyWarning: \n",
      "A value is trying to be set on a copy of a slice from a DataFrame.\n",
      "Try using .loc[row_indexer,col_indexer] = value instead\n",
      "\n",
      "See the caveats in the documentation: http://pandas.pydata.org/pandas-docs/stable/indexing.html#indexing-view-versus-copy\n",
      "  del sys.path[0]\n",
      "/home/jequezinho/.local/lib/python3.6/site-packages/ipykernel_launcher.py:14: SettingWithCopyWarning: \n",
      "A value is trying to be set on a copy of a slice from a DataFrame.\n",
      "Try using .loc[row_indexer,col_indexer] = value instead\n",
      "\n",
      "See the caveats in the documentation: http://pandas.pydata.org/pandas-docs/stable/indexing.html#indexing-view-versus-copy\n",
      "  \n",
      "/home/jequezinho/.local/lib/python3.6/site-packages/ipykernel_launcher.py:15: SettingWithCopyWarning: \n",
      "A value is trying to be set on a copy of a slice from a DataFrame.\n",
      "Try using .loc[row_indexer,col_indexer] = value instead\n",
      "\n",
      "See the caveats in the documentation: http://pandas.pydata.org/pandas-docs/stable/indexing.html#indexing-view-versus-copy\n",
      "  from ipykernel import kernelapp as app\n"
     ]
    }
   ],
   "source": [
    "page = requests.get(\"https://www.baseball-reference.com/leagues/MLB/2019-standard-batting.shtml\")\n",
    "soup = BeautifulSoup(page.content, 'html.parser')\n",
    "my_table = soup.find('table')\n",
    "my_head = my_table.find('thead')\n",
    "my_head_cells = [cell.text for cell in my_head.find_all('th')]\n",
    "my_rows = [row for row in my_table.find_all('tr')]\n",
    "my_cells = [[float(cell.text) for cell in row.find_all('td')] for row in my_rows]\n",
    "my_cells = [cell for cell in my_cells if cell]\n",
    "stats = pd.DataFrame(data=my_cells, columns=my_head_cells[1:])\n",
    "stats = stats.iloc[:30, :]\n",
    "\n",
    "df = stats[['PA', 'H', '2B', '3B', 'HR', 'BB', 'GDP', 'HBP', 'SH', 'SF']]\n",
    "df['1B'] = df['H'] - df[['2B', '3B', 'HR']].sum(1)\n",
    "df['WALK'] = df[['BB', 'HBP']].sum(1)\n",
    "df['OUT'] = df['PA'] - df[['H', 'WALK']].sum(1)\n",
    "\n",
    "df_probs = df[['1B', '2B', '3B', 'HR', 'WALK', 'OUT']]\n",
    "df_probs = df_probs.div(df_probs.sum(1), axis=0)"
   ]
  },
  {
   "cell_type": "code",
   "execution_count": 177,
   "metadata": {},
   "outputs": [],
   "source": [
    "class Player:\n",
    "    def __init__(self, probs):\n",
    "        self.probs = pd.Series(probs)\n",
    "        self.stats = []\n",
    "        \n",
    "    def at_bat(self):\n",
    "        outcome = np.random.choice(self.probs.index, p=self.probs.values)\n",
    "        self.stats.push(outcome)\n",
    "        return outcome"
   ]
  },
  {
   "cell_type": "code",
   "execution_count": null,
   "metadata": {},
   "outputs": [],
   "source": [
    "class Team:\n",
    "    def __init__(self, players):\n",
    "        self.players=players\n",
    "        self.record = [0, 0]\n",
    "\n",
    "    def update_record(self, boo):\n",
    "        if boo:\n",
    "            self.record[0] += 1\n",
    "        else:\n",
    "            self.record[1] += 1 "
   ]
  },
  {
   "cell_type": "code",
   "execution_count": null,
   "metadata": {},
   "outputs": [],
   "source": [
    "class Game:\n",
    "    def __init__(self,\n",
    "                 teams,\n",
    "                 inning=1,\n",
    "                 outs=0,\n",
    "                 away_or_home=0,\n",
    "                 bases=[0,0,0],\n",
    "                 score=[0,0],\n",
    "                 game_on=True):\n",
    "        self.teams=teams\n",
    "        self.inning=inning\n",
    "        self.outs=outs\n",
    "        self.away_or_home=away_or_home\n",
    "        self.bases=bases\n",
    "        self.score=score\n",
    "        self.game_on=game_on\n",
    "        self.current_player=[0,0]\n",
    "\n",
    "    def walker:\n",
    "        self.bases.append(0)\n",
    "        self.bases[0] += 1\n",
    "        for i in range(3):\n",
    "            if self.bases[i]==2:\n",
    "                self.bases[i] -= 1\n",
    "                self.bases[i+1] += 1\n",
    "        runs = self.bases[-1]\n",
    "        self.bases = self.bases[:3]\n",
    "        self.score[self.away_or_home] += runs\n",
    "\n",
    "    def hitter(self, hit_type):\n",
    "        if hit_type == '1B':\n",
    "            self.bases = [1,0].extend(self.bases)\n",
    "        elif hit_type == '2B':\n",
    "            self.bases = [0,1].extend(self.bases)\n",
    "        elif hit_type == '3B':\n",
    "            self.bases = [0,0,1].extend(self.bases)\n",
    "        elif hit_type == 'HR':\n",
    "            self.bases = [0,0,0,1].extend(self.bases)\n",
    "        runs = sum(self.bases[3:])\n",
    "        self.bases = self.bases[:3]\n",
    "        self.score[self.away_or_home] += runs\n",
    "\n",
    "    def at_bat(self):\n",
    "        player=self.teams[self.away_or_home][self.current_player]\n",
    "        result = player.at_bat()\n",
    "        if result == 'OUT':\n",
    "            self.outs += 1\n",
    "        elif result == 'BB':\n",
    "            self.walker()\n",
    "        else:\n",
    "            self.hitter(result)\n",
    "        if (self.inning >= 9 and ((self.outs >= 3 and self.away_or_home == 0) or self.away_or_home == 1) and self.score[0] < self.score[1]) or\n",
    "        (self.inning >= 9 and self.outs >= 3 and self.score[0] > self.score[1]):\n",
    "            self.game_on = False\n",
    "        if self.outs >= 3:\n",
    "            if self.away_or_home == 1:\n",
    "                self.inning += 1\n",
    "            self.outs = 0\n",
    "            self.current_player[self.away_or_home] = (self.current_player[self.away_or_home] + 1) % 9\n",
    "            self.away_or_home = (self.away_or_home + 1) % 2\n",
    "            self.bases = [0, 0, 0]\n",
    "\n",
    "    def play_game(self):\n",
    "        while self.game_on:\n",
    "            self.at_bat()\n",
    "        final_score = copy.copy(self.score)\n",
    "        winner = 1 if (self.score[0] < self.score[1]) else 0\n",
    "        self.inning = 1\n",
    "        self.outs = 0\n",
    "        self.away_or_home = 0\n",
    "        self.bases = [0,0,0]\n",
    "        self.score = [0,0]\n",
    "        self.game_on = True\n",
    "        return {\n",
    "            \"final_score\": final_score,\n",
    "            \"winner\": winner\n",
    "        }"
   ]
  },
  {
   "cell_type": "code",
   "execution_count": null,
   "metadata": {},
   "outputs": [],
   "source": [
    "class Simulator:\n",
    "    def __init__(self, teams, inning=1, bases=[0,0,0], outs=0, score=[0,0]):\n",
    "        self.teams=teams\n",
    "        self.inning=1\n",
    "        self.outs=0\n",
    "        self.bases=[0,0,0]\n",
    "        self.score=[0,0]\n",
    "    \n",
    "    def simulate(self, its=100):\n",
    "        game_log = []\n",
    "        wins = 0\n",
    "        for i in range(its):\n",
    "            game = Game([getattr(self, attr) if \"__\" not in attr])\n",
    "            result = game.play_game()\n",
    "            wins += result.winner\n",
    "            game_log.append(result)\n",
    "        print(f\"The home team won ${wins} out of ${its}, for a winning percentage of {wins / its * 100}%!\")\n",
    "        return game_log"
   ]
  },
  {
   "cell_type": "code",
   "execution_count": 178,
   "metadata": {},
   "outputs": [],
   "source": [
    "team1 = df_probs.sample(9)\n",
    "avails = [ix for ix in df_probs.index if ix not in team1.index]\n",
    "team2 = df_probs.iloc[avails, :].sample(9)\n",
    "\n",
    "team1 = Team([Player(team1.iloc[i, :]) for i in range(team1.shape[0])])\n",
    "team2 = Team([Player(team2.iloc[i, :]) for i in range(team2.shape[0])])\n",
    "\n",
    "g = Game(teams=[team1,team2])"
   ]
  },
  {
   "cell_type": "code",
   "execution_count": 192,
   "metadata": {},
   "outputs": [
    {
     "data": {
      "text/plain": [
       "[('awayOrHome', 0),\n",
       " ('bases', [0, 0, 0]),\n",
       " ('gameOn', False),\n",
       " ('inning', 1),\n",
       " ('outs', 0),\n",
       " ('score', [0, 0]),\n",
       " ('teams',\n",
       "  [<__main__.Team at 0x7f092e10a1d0>, <__main__.Team at 0x7f092e107668>])]"
      ]
     },
     "execution_count": 192,
     "metadata": {},
     "output_type": "execute_result"
    }
   ],
   "source": [
    "[(ho, getattr(g, ho)) for ho in dir(g) if \"__\" not in ho]"
   ]
  }
 ],
 "metadata": {
  "kernelspec": {
   "display_name": "Python 3",
   "language": "python",
   "name": "python3"
  },
  "language_info": {
   "codemirror_mode": {
    "name": "ipython",
    "version": 3
   },
   "file_extension": ".py",
   "mimetype": "text/x-python",
   "name": "python",
   "nbconvert_exporter": "python",
   "pygments_lexer": "ipython3",
   "version": "3.6.9"
  }
 },
 "nbformat": 4,
 "nbformat_minor": 4
}
